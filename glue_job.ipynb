{
	"cells": [
		{
			"cell_type": "markdown",
			"metadata": {},
			"source": [
				"### Glue Job to Fetch Data from API ingest to S3 post transformations\n",
				"This code performs the following tasks:\n",
				"1. Importing all necessary packages\n",
				"2. Fetches Data from api\n",
				"3. Ingest the paruqet file to raw-layer S3\n",
				"4. Using custom transformations the dataset is dividied into multiple dataframes according to the data needs\n",
				"5. All the individual dataframes are ingested back to S3 post transformations for visualization using Athena & QuickSight"
			]
		},
		{
			"cell_type": "code",
			"execution_count": 1,
			"metadata": {
				"tags": [],
				"trusted": true
			},
			"outputs": [
				{
					"name": "stdout",
					"output_type": "stream",
					"text": [
						"Welcome to the Glue Interactive Sessions Kernel\n",
						"For more information on available magic commands, please type %help in any new cell.\n",
						"\n",
						"Please view our Getting Started page to access the most up-to-date information on the Interactive Sessions kernel: https://docs.aws.amazon.com/glue/latest/dg/interactive-sessions.html\n",
						"Installed kernel version: 1.0.7 \n",
						"Trying to create a Glue session for the kernel.\n",
						"Session Type: glueetl\n",
						"Session ID: 2b452660-8525-4e07-b28a-0b103118997e\n",
						"Applying the following default arguments:\n",
						"--glue_kernel_version 1.0.7\n",
						"--enable-glue-datacatalog true\n",
						"Waiting for session 2b452660-8525-4e07-b28a-0b103118997e to get into ready status...\n",
						"Session 2b452660-8525-4e07-b28a-0b103118997e has been created.\n",
						"\n"
					]
				}
			],
			"source": [
				"import requests,sys\n",
				"import pandas as pd\n",
				"from pyspark.sql import SparkSession , DataFrame\n",
				"from pyspark.sql.functions import col , sum , avg , format_number\n",
				"from pyspark.sql.types import TimestampType , DoubleType \n",
				"from datetime import datetime\n",
				"from typing import Union, List\n",
				"import logging\n",
				"logger = logging.getLogger()\n",
				"logger.setLevel(logging.INFO)\n",
				"def exit_function() -> None:\n",
				"    sys.exit(1)"
			]
		},
		{
			"cell_type": "code",
			"execution_count": 2,
			"metadata": {
				"tags": [],
				"trusted": true
			},
			"outputs": [
				{
					"name": "stdout",
					"output_type": "stream",
					"text": [
						"\n"
					]
				}
			],
			"source": [
				"def fetch_data(api_url : str) -> requests.Response:\n",
				"    \"\"\"\n",
				"    Fetches API response using get method\n",
				"\n",
				"    Args:\n",
				"        api_url (str): url of the api which need to be accessed\n",
				"\n",
				"    Returns:\n",
				"        requests.Response : Response Generated from hitting the API.\n",
				"\n",
				"    Raises:\n",
				"        Exception: If Status Code other than 200\n",
				"\n",
				"    \"\"\"\n",
				"    try:\n",
				"        response = requests.get(api_url)\n",
				"        response.raise_for_status()  # Raises an HTTPError for bad responses (4xx and 5xx)\n",
				"        logger.info(f\"Response generated with {response.status_code} statusCode\")\n",
				"        return response\n",
				"    except requests.exceptions.RequestException as e:\n",
				"        logger.error(f\"Failed to generate response from API with error with error -> {e}\")\n",
				"        raise\n",
				"        \n",
				"def s3_write(s3_prefix: str, data_frame: DataFrame, s3_path: str = \"s3://sales-data-kdr/\") -> None:\n",
				"    \"\"\"\n",
				"    Writes the DataFrame to S3 path based on the inputs provided\n",
				"    \"\"\"\n",
				"    try:\n",
				"        path = f'{s3_path}{s3_prefix}/year={datetime.today().strftime(\"%Y\")}/month={datetime.today().strftime(\"%m\")}/day={datetime.today().strftime(\"%d\")}/'\n",
				"        data_frame.write.mode(\"overwrite\").parquet(path)\n",
				"        logger.info(f\"DataFrame written to S3 path: {path}\")\n",
				"    except Exception as e:\n",
				"        logger.error(f\"Failed to write data to S3 path {path} with error -> {e}\")\n",
				"        raise\n",
				"\n",
				"def spark_data_transform(raw_df: DataFrame, column_names: Union[str, List[str]], dtypes: Union[str, List[str]]) -> DataFrame:\n",
				"    \"\"\"\n",
				"    Transforms provided column_names data types to provided dtypes values\n",
				"\n",
				"    Args:\n",
				"        raw_df (DataFrame): The input DataFrame.\n",
				"        column_names (Union[str, List[str]]): The column name or list of column names to transform.\n",
				"        dtypes (Union[str, List[str]]): The data type or list of data types to cast to.\n",
				"\n",
				"    Returns:\n",
				"        DataFrame: The transformed DataFrame.\n",
				"\n",
				"    Raises:\n",
				"        ValueError: If invalid DataFrame or incorrect column names and data types are provided.\n",
				"        Exception: If any other error occurs.\n",
				"    \"\"\"\n",
				"    try:\n",
				"        if isinstance(column_names, list) and isinstance(dtypes, list):\n",
				"            if len(column_names) != len(dtypes):\n",
				"                raise ValueError(\"The length of column_names and dtypes must be the same.\")\n",
				"            for column, dtype in zip(column_names, dtypes):\n",
				"                raw_df = raw_df.withColumn(column, col(column).cast(dtype()))\n",
				"        elif isinstance(column_names, str) and isinstance(str(dtypes), str):\n",
				"            raw_df = raw_df.withColumn(column_names, col(column_names).cast(dtypes()))\n",
				"        else:\n",
				"            raise ValueError(\"column_names and dtypes must both be either strings or lists of equal length.\")\n",
				"\n",
				"        logging.info(f\"Transformation successful: {column_names} cast to {dtypes}\")\n",
				"        return raw_df\n",
				"\n",
				"    except Exception as e:\n",
				"        logger.error(f\"Failed to transform column(s) {column_names} to {dtypes} with error -> {e}\")\n",
				"        exit_function()"
			]
		},
		{
			"cell_type": "code",
			"execution_count": 3,
			"metadata": {
				"tags": [],
				"trusted": true
			},
			"outputs": [
				{
					"name": "stdout",
					"output_type": "stream",
					"text": [
						"+--------------------+--------------------+--------+-------------------+--------------+----------+--------------------+------------+------------+--------+------+------+------+-----------------+--------------------+\n",
						"|      transaction_id|           timestamp|store_id|         store_name|store_location|product_id|        product_name|    category|retail_price|quantity| brand|   mrp| total|    customer_name|      customer_email|\n",
						"+--------------------+--------------------+--------+-------------------+--------------+----------+--------------------+------------+------------+--------+------+------+------+-----------------+--------------------+\n",
						"|ba87f919-15a2-4b1...|2024-12-26T20:26:...|    S013|Chennai Citi Centre|       Chennai|      H036|boAt Airdopes 441...|   Earphones|     2124.15|       2|  boAt|  2499|  4998|      Charles Roy| wpillai@example.org|\n",
						"|33586a47-e356-4f9...|2024-12-06T20:26:...|    S021|       Pacific Mall|     Ghaziabad|      P099|Apple iPhone 12 P...|Mobile Phone|   110499.15|       1| Apple|129999|129999|      Udant Bassi|  obasak@example.org|\n",
						"|e17a2c02-b406-405...|2025-01-13T20:26:...|    S017|           GIP Mall|         Noida|    TAB017|Lenovo Yoga Tab 3...|      Tablet|     22491.0|       1|Lenovo| 24990| 24990|Bahadurjit Thaman| gparmar@example.net|\n",
						"|76ef172f-4588-431...|2024-12-28T20:26:...|    S003|            UB City|     Bengaluru|      T023|LG 55 Inch OLED 4...|          TV|     98991.0|       2|    LG|109990|219980|         Neel Jha|  dratti@example.com|\n",
						"|e7498b7f-67db-4cb...|2024-11-07T20:26:...|    S008|          The Leela|       Chennai|      L002|     HP Spectre x360|      Laptop|   114749.15|       2|    HP|134999|269998|       Azad Chand|goyalnirja@exampl...|\n",
						"+--------------------+--------------------+--------+-------------------+--------------+----------+--------------------+------------+------------+--------+------+------+------+-----------------+--------------------+\n",
						"only showing top 5 rows\n",
						"\n",
						"None\n",
						"root\n",
						" |-- transaction_id: string (nullable = true)\n",
						" |-- timestamp: string (nullable = true)\n",
						" |-- store_id: string (nullable = true)\n",
						" |-- store_name: string (nullable = true)\n",
						" |-- store_location: string (nullable = true)\n",
						" |-- product_id: string (nullable = true)\n",
						" |-- product_name: string (nullable = true)\n",
						" |-- category: string (nullable = true)\n",
						" |-- retail_price: double (nullable = true)\n",
						" |-- quantity: long (nullable = true)\n",
						" |-- brand: string (nullable = true)\n",
						" |-- mrp: long (nullable = true)\n",
						" |-- total: long (nullable = true)\n",
						" |-- customer_name: string (nullable = true)\n",
						" |-- customer_email: string (nullable = true)\n",
						"\n",
						"None\n",
						"/opt/amazon/spark/python/lib/pyspark.zip/pyspark/sql/pandas/conversion.py:474: FutureWarning: iteritems is deprecated and will be removed in a future version. Use .items instead.\n",
						"/opt/amazon/spark/python/lib/pyspark.zip/pyspark/sql/pandas/conversion.py:486: FutureWarning: iteritems is deprecated and will be removed in a future version. Use .items instead.\n"
					]
				}
			],
			"source": [
				"try:\n",
				"    pandas_df = pd.DataFrame(fetch_data(api_url=\"https://dznc158l4m.execute-api.us-east-1.amazonaws.com/uat_stage/sales_data_api_s3_ray_layer\").json())\n",
				"    spark=SparkSession.builder.appName(\"sales_data_transformation\").getOrCreate() # Spark Session Builder \n",
				"    raw_df = spark.createDataFrame(pandas_df)\n",
				"    print(raw_df.show(5))\n",
				"    print(raw_df.printSchema()) # Prints Column Names and their respective Dtypes\n",
				"    s3_write(s3_prefix='raw-layer',data_frame=raw_df)\n",
				"except Exception as e:\n",
				"    logger.error(f\"Failed to execute with error -> {e}\")\n",
				"    exit_function()"
			]
		},
		{
			"cell_type": "code",
			"execution_count": 4,
			"metadata": {
				"tags": [],
				"trusted": true
			},
			"outputs": [
				{
					"name": "stdout",
					"output_type": "stream",
					"text": [
						"\n"
					]
				}
			],
			"source": [
				"transformed_df=spark_data_transform(raw_df=raw_df,column_names=['timestamp','total','mrp'],dtypes=[TimestampType,DoubleType,DoubleType])"
			]
		},
		{
			"cell_type": "code",
			"execution_count": 5,
			"metadata": {
				"tags": [],
				"trusted": true
			},
			"outputs": [
				{
					"name": "stdout",
					"output_type": "stream",
					"text": [
						"+--------------------+------+------------+--------+--------+------------+--------+\n",
						"|        product_name| brand|    category|   total|quantity|retail_price|     mrp|\n",
						"+--------------------+------+------------+--------+--------+------------+--------+\n",
						"|boAt Airdopes 441...|  boAt|   Earphones|  4998.0|       2|     2124.15|  2499.0|\n",
						"|Apple iPhone 12 P...| Apple|Mobile Phone|129999.0|       1|   110499.15|129999.0|\n",
						"|Lenovo Yoga Tab 3...|Lenovo|      Tablet| 24990.0|       1|     22491.0| 24990.0|\n",
						"|LG 55 Inch OLED 4...|    LG|          TV|219980.0|       2|     98991.0|109990.0|\n",
						"|     HP Spectre x360|    HP|      Laptop|269998.0|       2|   114749.15|134999.0|\n",
						"+--------------------+------+------------+--------+--------+------------+--------+\n",
						"only showing top 5 rows\n"
					]
				}
			],
			"source": [
				"products_data_columns=[\"product_name\",\"brand\",\"category\",\"total\",\"quantity\",\"retail_price\",\"mrp\"]\n",
				"brand_product_sales=transformed_df.select(*products_data_columns)\n",
				"brand_product_sales.show(5)"
			]
		},
		{
			"cell_type": "code",
			"execution_count": 6,
			"metadata": {
				"tags": [],
				"trusted": true
			},
			"outputs": [
				{
					"name": "stdout",
					"output_type": "stream",
					"text": [
						"+----------+--------------+--------------+------------------+\n",
						"|     brand|   total_sales|total_quantity|sale_per_piece_avg|\n",
						"+----------+--------------+--------------+------------------+\n",
						"| Microsoft| 32,255,430.00|           457|         70,580.81|\n",
						"|      Asus| 47,634,376.00|           511|         93,217.96|\n",
						"|   Philips|    883,888.00|           112|          7,891.86|\n",
						"|     Anker|  1,295,790.00|           210|          6,170.43|\n",
						"|    Huawei| 13,639,460.00|           554|         24,619.96|\n",
						"|     Apple|317,628,421.00|          3381|         93,945.11|\n",
						"|      boAt|    907,557.00|           343|          2,645.94|\n",
						"|       TCL| 60,633,140.00|           886|         68,434.70|\n",
						"|    Xiaomi|  1,835,882.00|           118|         15,558.32|\n",
						"|     Noise|    371,906.00|            94|          3,956.45|\n",
						"|        HP| 68,864,618.00|           581|        118,527.74|\n",
						"|      Sony|100,514,880.00|          1212|         82,933.07|\n",
						"|    Realme|  1,030,699.00|           301|          3,424.25|\n",
						"|      Moto| 24,522,946.00|          1054|         23,266.55|\n",
						"|        LG| 89,656,390.00|           861|        104,130.53|\n",
						"|Sennheiser|  6,175,370.00|           263|         23,480.49|\n",
						"|      Bose|  8,142,824.00|           307|         26,523.86|\n",
						"|      Dell| 59,733,801.00|           552|        108,213.41|\n",
						"|Skullcandy|  2,092,909.00|            91|         22,999.00|\n",
						"|       JBL|  3,562,383.00|           617|          5,773.72|\n",
						"|   Samsung|243,601,460.00|          3887|         62,670.82|\n",
						"|    Lenovo| 69,282,895.00|          1714|         40,421.76|\n",
						"|   OnePlus| 59,722,526.00|          1474|         40,517.32|\n",
						"|     Redmi|    140,953.00|            47|          2,999.00|\n",
						"|      Acer| 32,227,053.00|           373|         86,399.61|\n",
						"|     Beats|  1,511,370.00|            63|         23,990.00|\n",
						"+----------+--------------+--------------+------------------+\n",
						"\n",
						"+------------+--------------+--------------+------------------+\n",
						"|    category|   total_sales|total_quantity|sale_per_piece_avg|\n",
						"+------------+--------------+--------------+------------------+\n",
						"|   Earphones| 15,533,133.00|          1708|          9,094.34|\n",
						"|      Tablet|182,838,894.00|          4512|         40,522.80|\n",
						"|          TV|327,908,790.00|          3421|         95,851.74|\n",
						"|      Laptop|365,048,094.00|          3208|        113,793.05|\n",
						"|  Headphones| 26,809,560.00|          1610|         16,651.90|\n",
						"|Mobile Phone|329,730,456.00|          5604|         58,838.41|\n",
						"+------------+--------------+--------------+------------------+\n"
					]
				}
			],
			"source": [
				"brand_sales = brand_product_sales.groupBy(\"brand\").agg(sum(\"total\").alias(\"total_sales\"),\\\n",
				"                                                       sum(\"quantity\").alias(\"total_quantity\"))\n",
				"brand_sales= brand_sales.withColumn(\"sale_per_piece_avg\", col(\"total_sales\") / col(\"total_quantity\"))\\\n",
				"                        .withColumn(\"total_sales\",format_number(col(\"total_sales\"),2))\\\n",
				"                        .withColumn(\"sale_per_piece_avg\", format_number(col(\"sale_per_piece_avg\"),2)) # To add precision stopping from converting into scientific number\n",
				"\n",
				"s3_write(s3_prefix='transformed-layer/brand_sales',data_frame=brand_sales)\n",
				"brand_sales.show(10000)\n",
				"category_sales=brand_product_sales.groupBy(\"category\").agg(sum(\"total\").alias(\"total_sales\"),\\\n",
				"                                                           sum(\"quantity\").alias(\"total_quantity\"))\n",
				"category_sales= category_sales.withColumn(\"sale_per_piece_avg\", col(\"total_sales\") / col(\"total_quantity\"))\\\n",
				"                              .withColumn(\"total_sales\", format_number(col(\"total_sales\"),2))\\\n",
				"                              .withColumn(\"sale_per_piece_avg\", format_number(col(\"sale_per_piece_avg\"),2))\n",
				"\n",
				"s3_write(s3_prefix='transformed-layer/category_sales',data_frame=brand_sales)\n",
				"category_sales.show(100)"
			]
		},
		{
			"cell_type": "code",
			"execution_count": 7,
			"metadata": {
				"tags": [],
				"trusted": true
			},
			"outputs": [
				{
					"name": "stdout",
					"output_type": "stream",
					"text": [
						"+----------+--------------+------------------+----------------------+\n",
						"|     brand|   total_sales|total_retail_price|total_profit_per_brand|\n",
						"+----------+--------------+------------------+----------------------+\n",
						"| Microsoft| 32,255,430.00|     14,566,239.00|         17,689,191.00|\n",
						"|     Anker|  1,295,790.00|        562,609.90|            733,180.10|\n",
						"|   Philips|    883,888.00|        390,950.70|            492,937.30|\n",
						"|      Asus| 47,634,376.00|     20,389,590.75|         27,244,785.25|\n",
						"|     Beats|  1,511,370.00|        611,745.00|            899,625.00|\n",
						"|    Huawei| 13,639,460.00|      6,505,272.00|          7,134,188.00|\n",
						"|     Apple|317,628,421.00|    136,148,587.55|        181,479,833.45|\n",
						"|      boAt|    907,557.00|        367,401.45|            540,155.55|\n",
						"|       TCL| 60,633,140.00|     25,992,693.00|         34,640,447.00|\n",
						"|     Noise|    371,906.00|        169,957.50|            201,948.50|\n",
						"|    Realme|  1,030,699.00|        435,071.65|            595,627.35|\n",
						"|        HP| 68,864,618.00|     28,479,769.85|         40,384,848.15|\n",
						"|      Sony|100,514,880.00|     44,811,211.00|         55,703,669.00|\n",
						"|      Moto| 24,522,946.00|     10,382,401.20|         14,140,544.80|\n",
						"|      Bose|  8,142,824.00|      3,581,784.40|          4,561,039.60|\n",
						"|        LG| 89,656,390.00|     42,117,894.00|         47,538,496.00|\n",
						"|Sennheiser|  6,175,370.00|      2,667,019.50|          3,508,350.50|\n",
						"|      Dell| 59,733,801.00|     25,003,065.00|         34,730,736.00|\n",
						"|       JBL|  3,562,383.00|      1,487,241.60|          2,075,141.40|\n",
						"|   Samsung|243,601,460.00|    106,260,951.45|        137,340,508.55|\n",
						"|    Lenovo| 69,282,895.00|     29,607,082.05|         39,675,812.95|\n",
						"|   OnePlus| 59,722,526.00|     25,503,021.00|         34,219,505.00|\n",
						"|     Redmi|    140,953.00|         68,827.05|             72,125.95|\n",
						"|      Acer| 32,227,053.00|     13,149,699.80|         19,077,353.20|\n",
						"|    Xiaomi|  1,835,882.00|        770,348.05|          1,065,533.95|\n",
						"|Skullcandy|  2,092,909.00|        821,064.30|          1,271,844.70|\n",
						"+----------+--------------+------------------+----------------------+\n",
						"\n",
						"+------------+--------------+------------------+----------------------+\n",
						"|    category|   total_sales|total_retail_price|total_profit_per_brand|\n",
						"+------------+--------------+------------------+----------------------+\n",
						"|   Earphones| 15,533,133.00|      6,614,927.80|          8,918,205.20|\n",
						"|      Tablet|182,838,894.00|     83,202,372.00|         99,636,522.00|\n",
						"|          TV|327,908,790.00|    147,311,244.00|        180,597,546.00|\n",
						"|      Laptop|365,048,094.00|    153,539,484.75|        211,508,609.25|\n",
						"|  Headphones| 26,809,560.00|     11,063,231.95|         15,746,328.05|\n",
						"|Mobile Phone|329,730,456.00|    139,120,238.25|        190,610,217.75|\n",
						"+------------+--------------+------------------+----------------------+\n"
					]
				}
			],
			"source": [
				"profit_per_brand = brand_product_sales.groupBy(\"brand\").agg(sum(\"total\").alias(\"total_sales\"),\\\n",
				"                                                            sum(\"retail_price\").alias(\"total_retail_price\")).withColumn(\"total_profit_per_brand\",col(\"total_sales\") - col(\"total_retail_price\"))\n",
				"profit_per_brand = profit_per_brand.withColumn(\"total_sales\", format_number(col(\"total_sales\"), 2)) \\\n",
				"                                   .withColumn(\"total_retail_price\", format_number(col(\"total_retail_price\"), 2))\\\n",
				"                                   .withColumn(\"total_profit_per_brand\",format_number(col(\"total_profit_per_brand\"), 2)) # To add precision stopping from converting into scientific number\n",
				"s3_write(s3_prefix='transformed-layer/profit_per_brand',data_frame=profit_per_brand)                                \n",
				"profit_per_brand.show(500)\n",
				"profit_per_category = brand_product_sales.groupBy(\"category\").agg(sum(\"total\").alias(\"total_sales\"),\\\n",
				"                                                            sum(\"retail_price\").alias(\"total_retail_price\")).withColumn(\"total_profit_per_brand\",col(\"total_sales\") - col(\"total_retail_price\"))\n",
				"profit_per_category = profit_per_category.withColumn(\"total_sales\", format_number(col(\"total_sales\"), 2)) \\\n",
				"                                   .withColumn(\"total_retail_price\", format_number(col(\"total_retail_price\"), 2))\\\n",
				"                                   .withColumn(\"total_profit_per_brand\",format_number(col(\"total_profit_per_brand\"), 2)) # To add precision stopping from converting into scientific number\n",
				"profit_per_category.show()\n",
				"s3_write(s3_prefix='transformed-layer/profit_per_category',data_frame=profit_per_category)                                "
			]
		},
		{
			"cell_type": "code",
			"execution_count": 8,
			"metadata": {
				"tags": [],
				"trusted": true
			},
			"outputs": [
				{
					"name": "stdout",
					"output_type": "stream",
					"text": [
						"+--------------------+--------------+-------------+------------------+----------------------+\n",
						"|          store_name|store_location|  total_sales|total_retail_price|total_profit_per_brand|\n",
						"+--------------------+--------------+-------------+------------------+----------------------+\n",
						"|         Rohini Mall|     New Delhi|41,541,327.00|     18,709,961.90|         22,831,365.10|\n",
						"|   DLF Mall of India|         Noida|46,636,444.00|     19,767,218.35|         26,869,225.65|\n",
						"|    City Centre Mall|       Kolkata|47,047,321.00|     20,705,795.50|         26,341,525.50|\n",
						"|         R City Mall|        Mumbai|49,223,933.00|     21,811,638.05|         27,412,294.95|\n",
						"|Sarath City Capit...|     Hyderabad|52,369,899.00|     22,778,823.05|         29,591,075.95|\n",
						"|        Pacific Mall|     Ghaziabad|49,888,680.00|     21,766,204.50|         28,122,475.50|\n",
						"|       Ambience Mall|      Gurugram|60,246,815.00|     24,965,361.65|         35,281,453.35|\n",
						"|     Kochi Lulu Mall|         Kochi|47,290,389.00|     19,940,490.75|         27,349,898.25|\n",
						"|        Phoenix Mall|        Mumbai|50,191,867.00|     21,633,504.60|         28,558,362.40|\n",
						"|         Sahara Mall|      Gurugram|49,538,834.00|     22,100,254.15|         27,438,579.85|\n",
						"|  Phoenix Marketcity|       Chennai|54,183,062.00|     23,166,676.25|         31,016,385.75|\n",
						"| Chennai Citi Centre|       Chennai|45,389,135.00|     20,018,933.30|         25,370,201.70|\n",
						"|      Sarojini Nagar|     New Delhi|47,982,313.00|     20,542,083.60|         27,440,229.40|\n",
						"|MGF Metropolitan ...|      Gurugram|46,230,617.00|     19,713,457.35|         26,517,159.65|\n",
						"|  Mantri Square Mall|     Bengaluru|48,226,583.00|     22,571,218.50|         25,655,364.50|\n",
						"|       Westside Mall|          Pune|47,207,564.00|     21,142,992.10|         26,064,571.90|\n",
						"| High Street Phoenix|        Mumbai|53,533,689.00|     22,846,804.80|         30,686,884.20|\n",
						"| Lajpat Nagar Market|     New Delhi|55,139,663.00|     23,872,043.30|         31,267,619.70|\n",
						"|           The Leela|       Chennai|51,379,856.00|     21,749,862.10|         29,629,993.90|\n",
						"|        Inorbit Mall|     Hyderabad|50,591,373.00|     21,375,183.35|         29,216,189.65|\n",
						"|     Select Citywalk|         Delhi|48,714,872.00|     20,871,838.70|         27,843,033.30|\n",
						"|             UB City|     Bengaluru|56,082,015.00|     23,715,492.45|         32,366,522.55|\n",
						"|            One Mall|    Chandigarh|49,752,581.00|     20,981,520.80|         28,771,060.20|\n",
						"|            GIP Mall|         Noida|49,420,002.00|     21,426,722.45|         27,993,279.55|\n",
						"|Connaught Place S...|     New Delhi|50,060,093.00|     22,677,417.20|         27,382,675.80|\n",
						"+--------------------+--------------+-------------+------------------+----------------------+\n",
						"\n",
						"+--------------------+-------+-------------------+--------------+-----------+--------------+\n",
						"|        product_name|  brand|         store_name|store_location|total_sales|total_quantity|\n",
						"+--------------------+-------+-------------------+--------------+-----------+--------------+\n",
						"|Samsung Galaxy Ta...|Samsung|Chennai Citi Centre|       Chennai|    74995.0|             5|\n",
						"|      HP Pavilion 15|     HP|Lajpat Nagar Market|     New Delhi|   329995.0|             5|\n",
						"|Sony Bravia 43 In...|   Sony|    Select Citywalk|         Delhi|   107970.0|             3|\n",
						"|Samsung 50 Inch 4...|Samsung|Chennai Citi Centre|       Chennai|   199960.0|             4|\n",
						"|Sony Bravia 32 In...|   Sony|       Pacific Mall|     Ghaziabad|    24990.0|             1|\n",
						"+--------------------+-------+-------------------+--------------+-----------+--------------+\n",
						"only showing top 5 rows\n",
						"\n",
						"+--------------------+-------+--------------------+--------------+-----------+--------------+\n",
						"|        product_name|  brand|          store_name|store_location|total_sales|total_quantity|\n",
						"+--------------------+-------+--------------------+--------------+-----------+--------------+\n",
						"|Samsung 85 Inch Q...|Samsung|       Ambience Mall|      Gurugram|  3499860.0|            14|\n",
						"|Apple MacBook Pro...|  Apple|             UB City|     Bengaluru|  2998800.0|            12|\n",
						"|Sony Bravia 75 In...|   Sony|MGF Metropolitan ...|      Gurugram|  2699940.0|             6|\n",
						"|Samsung 85 Inch 8...|Samsung|  Phoenix Marketcity|       Chennai|  2639920.0|             8|\n",
						"|Samsung 85 Inch Q...|Samsung|  Phoenix Marketcity|       Chennai|  2499900.0|            10|\n",
						"+--------------------+-------+--------------------+--------------+-----------+--------------+\n",
						"only showing top 5 rows\n"
					]
				}
			],
			"source": [
				"store_sales_columns = [\"product_name\",\"brand\",\"category\",\"total\",\"quantity\",\"retail_price\",\"mrp\",\"store_location\",\"store_name\"]\n",
				"store_sales_raw_data=transformed_df.select(*store_sales_columns)\n",
				"\n",
				"store_sales = store_sales_raw_data.groupBy(\"store_name\",\"store_location\").agg(sum(\"total\").alias(\"total_sales\"),\\\n",
				"                                                            sum(\"retail_price\").alias(\"total_retail_price\")).withColumn(\"total_profit_per_brand\",col(\"total_sales\") - col(\"total_retail_price\"))\n",
				"store_sales = store_sales.withColumn(\"total_sales\", format_number(col(\"total_sales\"), 2)) \\\n",
				"                                   .withColumn(\"total_retail_price\", format_number(col(\"total_retail_price\"), 2))\\\n",
				"                                   .withColumn(\"total_profit_per_brand\",format_number(col(\"total_profit_per_brand\"), 2))\n",
				"store_sales.show(100)\n",
				"s3_write(s3_prefix='transformed-layer/store_sales',data_frame=store_sales)\n",
				"higest_sold_products = store_sales_raw_data.groupBy(\"product_name\",\"brand\",\"store_name\",\"store_location\").agg(sum(\"total\").alias(\"total_sales\"),\\\n",
				"                                                            sum(\"quantity\").alias(\"total_quantity\"))\n",
				"higest_sold_products.show(5)\n",
				"higest_sold_product = higest_sold_products.groupBy(\"product_name\",\"brand\",\"store_name\",\"store_location\").agg(sum(\"total_sales\").alias(\"total_sales\"),\\\n",
				"                                                            sum(\"total_quantity\").alias(\"total_quantity\"))\n",
				"sorted_df = higest_sold_product.orderBy(col(\"total_sales\").desc(), col(\"total_quantity\").desc())\n",
				"sorted_df.show(5)\n",
				"s3_write(s3_prefix='transformed-layer/higest_sold_product',data_frame=sorted_df)\n"
			]
		}
	],
	"metadata": {
		"kernelspec": {
			"display_name": "Python 3",
			"language": "python",
			"name": "python3"
		},
		"language_info": {
			"codemirror_mode": {
				"name": "python",
				"version": 3
			},
			"file_extension": ".py",
			"mimetype": "text/x-python",
			"name": "python",
			"pygments_lexer": "python3",
			"version": "3.9.6"
		}
	},
	"nbformat": 4,
	"nbformat_minor": 4
}
